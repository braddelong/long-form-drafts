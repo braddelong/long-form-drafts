{
 "cells": [
  {
   "cell_type": "markdown",
   "metadata": {},
   "source": [
    ">(4.21) $ \\left( \\frac{Y_{t, alt}/L_{t, alt}}{Y_{t, ini}/L_{t, ini}} \\right)^* $\n",
    "$ = \\left( \\frac{n+g_{in}+\\delta}{(n+g_{in}+\\Delta g + \\delta) \\right)^{\\theta} (1+ \\Delta g)^t $"
   ]
  }
 ],
 "metadata": {
  "kernelspec": {
   "display_name": "Python 3",
   "language": "python",
   "name": "python3"
  },
  "language_info": {
   "codemirror_mode": {
    "name": "ipython",
    "version": 3
   },
   "file_extension": ".py",
   "mimetype": "text/x-python",
   "name": "python",
   "nbconvert_exporter": "python",
   "pygments_lexer": "ipython3",
   "version": "3.7.4"
  }
 },
 "nbformat": 4,
 "nbformat_minor": 4
}
