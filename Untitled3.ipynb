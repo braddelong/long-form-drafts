{
 "cells": [
  {
   "cell_type": "markdown",
   "metadata": {},
   "source": [
    ">(4.21) $ \\left( \\frac{Y_{t, alt}/L_{t, alt}}{Y_{t, ini}/L_{t, ini}} \\right)^*  = \\left( \\frac{n+g_{in}+\\delta}{(n+g_{in}+\\Delta g + \\delta) \\right)^{\\theta} (1+ \\Delta g)^t $"
   ]
  },
  {
   "cell_type": "markdown",
   "metadata": {},
   "source": [
    ">(5.7) $ \\ln(E) = \\ln(H) - \\frac{\\ln(L)}{\\gamma} $\n",
    "\n",
    "Then since:\n",
    "\n",
    ">(5.8) $ y^{*mal} = \\left( \\frac{s}{\\gamma h +\\delta} \\right)^\\theta E $\n",
    "\n",
    ">(5.9) $ \\ln(\\phi) + \\ln\\left( y^{sub} \\right) + \\ln\\left(1 + \\frac{\\gamma h}{\\beta} \\right) = \\theta \\ln(s) - \\theta \\ln(\\gamma h +\\delta) + \\ln(E) $\n",
    "\n",
    "The population and labor force in the full Malthusian equilibrium will be:\n",
    "\n",
    ">(5.10) $ \\ln(L_t^{*mal}) = \\gamma \\left[ \\ln(H_t) - \\ln( y^{sub}) \\right] +  \\gamma  \\theta \\left( \\ln(s) - \\ln(\\delta) \\right)  -  \\gamma  \\ln(\\phi) + \\left( - \\gamma \\theta \\ln(1 + \\gamma h/\\delta) -\\gamma ln\\left(1 + \\frac{\\gamma h}{\\beta} \\right) \\right) $"
   ]
  },
  {
   "cell_type": "markdown",
   "metadata": {},
   "source": [
    "$ \\frac{dK}{dt} = sY - \\delta K  = \\left( \\frac{s}{\\kappa} - \\delta \\right) K  $"
   ]
  }
 ],
 "metadata": {
  "kernelspec": {
   "display_name": "Python 3",
   "language": "python",
   "name": "python3"
  },
  "language_info": {
   "codemirror_mode": {
    "name": "ipython",
    "version": 3
   },
   "file_extension": ".py",
   "mimetype": "text/x-python",
   "name": "python",
   "nbconvert_exporter": "python",
   "pygments_lexer": "ipython3",
   "version": "3.7.4"
  }
 },
 "nbformat": 4,
 "nbformat_minor": 4
}
