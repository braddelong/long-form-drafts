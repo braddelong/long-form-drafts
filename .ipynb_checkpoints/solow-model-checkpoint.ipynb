{
 "cells": [
  {
   "cell_type": "markdown",
   "metadata": {},
   "source": [
    "# <font color=\"880000\"> Lecture Notes: The Solow Growth Model </font>"
   ]
  },
  {
   "cell_type": "markdown",
   "metadata": {},
   "source": [
    "## <font color=\"880000\"> 1: The Basics of the Model </font>\n",
    "\n",
    "### <font color=\"000088\"> 1.1: The Equilibrium Condition </font>\n",
    "\n",
    "Suppose that we have an economy in which the labor force $L$ is growing at a constant rate $n$, in which the efficiency-of-labor $E$ is growing at a constant rate $g$ and in which total income and production $ Y $ (and average income and production per worker $ y $ depends on the size of the labor force, the value of the efficiency-of-labor, and the capital-intensity of the economy $ \\kappa $ thus: \n",
    "\n",
    ">(1.1) $ Y = \\kappa^\\theta E L $\n",
    "\n",
    ">(1.2) $ y = \\kappa^\\theta E $\n",
    "\n",
    "where $ \\theta $ is a parameter that summarizes the relative importance of capital-intensity vis-a-vis the efficienc-of-labor in economic growth: a one-percent increase in the efficiency-of-labor $ E $ will raise total income $Y$ and per-worker income $y$ both by one percent; a one-percent increase in the capital-intensity $ \\kappa $ will increase total income $Y$ and per-worker income $y$ both by only $ \\theta $ percent; the higher is $\\theta $, the more salient is capital-intensity—and thus saving and investing to raise and then maintain capital-intensity—in the process of economic growth.\n",
    "\n",
    "Multiply the economy's capital-intensity $ \\kappa $ by the economy's level of total income and production $ Y$ and you get the economy's capital stock $ K$:\n",
    "\n",
    ">(1.3) $ K = \\kappa Y $\n",
    "\n",
    "the amount of produced means of production that the economy has inherited from its past.\n",
    "\n",
    "Now take the natural log of (1.1) and then take the time derivative of the result:\n",
    "\n",
    ">(1.4) $ \\ln(Y) = \\theta\\ln(\\kappa) + \\ln(L) + \\ln(E) $\n",
    "\n",
    ">(1.5) $ \\frac{1}{Y}\\frac{dY}{dt} = \\theta \\left(  \\frac{1}{\\kappa}\\frac{d\\kappa}{dt} \\right) +  \\frac{1}{L}\\frac{dL}{dt} +  \\frac{1}{E}\\frac{dE}{dt} $"
   ]
  },
  {
   "cell_type": "markdown",
   "metadata": {},
   "source": [
    "We assumed that the second term on the right-hand-side of (1.5) is n and that the third term is g. If $ \\kappa $ is constant, then the left-hand-side will be equal to n+g: that will then be the proportional growth rate of $ Y $. If $Y$ is growing at rate $n+g$ and $ \\kappa $ is constant, then the economy's capital-stock $K$ will also be growing at $n+g$. Everything will then be in _balanced growth_.\n",
    "\n",
    "Assume that a constant fraction $ s $ of income $ Y $ is saved and invested to add to the capital stock. Assume that a share $ \\delta $ of the capital stock rusts and erodes and disappears each year. Then the capital-stock $ K$ is going to be changing at:\n",
    "\n",
    ">(1.6) $ \\frac{dK}{dt} = sY - \\delta K $\n",
    "\n",
    "And the capital-stock will be growing at a proportional growth rate:\n",
    "\n",
    ">(1.7) $ \\frac{1}{K}\\frac{dK}{dt} = \\frac{s}{\\kappa} - \\delta $\n",
    "\n",
    "Thus the capital-stock will be growing at the rate $n+g$ required for balanced growth if and only if:\n",
    "\n",
    ">(1.8) $ \\frac{s}{\\kappa} - \\delta = n + g $\n",
    "\n",
    "which happens only when:\n",
    "\n",
    ">(1.9) $ \\kappa^* = \\frac{s}{n+g+\\delta} $"
   ]
  },
  {
   "cell_type": "markdown",
   "metadata": {},
   "source": [
    "This $ \\kappa^* $ we define as the _steady-state balanced-growth equilibrium_ value in the Solow growth model. If the capital-intensity $ \\kappa = \\kappa^* $, then it is constant, and the economy is in balanced growth, with $Y$ and $K$ growing at the rate n+g, $E$ and $y$ growing at the rate g, and $L$ growing at the rate $n$.\n",
    "\n",
    "&nbsp;"
   ]
  },
  {
   "cell_type": "markdown",
   "metadata": {},
   "source": [
    "### <font color=\"000088\"> 1.2: Convergence to Equilibrium </font>\n",
    "\n",
    "What if $ \\kappa ≠ \\kappa^* $? What happens then?\n"
   ]
  },
  {
   "cell_type": "markdown",
   "metadata": {},
   "source": [
    "Well, it is still the case that:\n",
    "\n",
    ">(1.7) $ \\frac{1}{K}\\frac{dK}{dt} = \\frac{s}{\\kappa} - \\delta $\n",
    "\n",
    "And by taking the natural log and the time derivative of (1.3) we get:\n",
    "\n",
    ">(1.8) $ \\frac{1}{\\kappa}\\frac{d\\kappa}{dt} = \\frac{1}{K}\\frac{dK}{dt}  -  \\frac{1}{Y}\\frac{dY}{dt} $\n",
    "\n",
    "Substituting (1.5) into (1.8):\n",
    "\n",
    ">(1.9) $ \\frac{1}{\\kappa}\\frac{d\\kappa}{dt} = \\frac{1}{K}\\frac{dK}{dt}  - \\left[ \\theta \\left(  \\frac{1}{\\kappa}\\frac{d\\kappa}{dt} \\right) +  n + g \\right] $\n",
    "\n",
    "Substituting (1.7) into (1.9):\n",
    "\n",
    ">(1.10) $ \\frac{1}{\\kappa}\\frac{d\\kappa}{dt} = \\frac{s}{\\kappa} - \\delta - \\left[ \\theta \\left(  \\frac{1}{\\kappa}\\frac{d\\kappa}{dt} \\right) +  n + g \\right] $\n",
    "\n",
    "Moving the terms in $ \\kappa $ to the left:\n",
    "\n",
    ">(1.11) $ (1+\\theta)\\frac{1}{\\kappa}\\frac{d\\kappa}{dt} = \\frac{s}{\\kappa} - \\delta -  n - g $\n",
    "\n",
    "And solving for the rate-of-change of capital-intensity $ \\kappa $:\n",
    "\n",
    ">(1.12) $ \\frac{1}{\\kappa}\\frac{d\\kappa}{dt} = \\frac{\\frac{s}{\\kappa} - \\delta -  n - g}{1+\\theta} $\n",
    "\n",
    "Multiplying through by $ \\kappa $:\n",
    "\n",
    ">(1.13) $ \\frac{d\\kappa}{dt} = \\frac{s - (n+g+\\delta)\\kappa}{1+\\theta} $\n",
    "\n",
    "Recall from (1.9) that:\n",
    "\n",
    ">(1.14) $ s = (n+g+\\delta)\\kappa $\n",
    "\n",
    "So (1.13) then becomes:\n",
    "\n",
    ">(1.15) $ \\frac{d\\kappa}{dt} = -\\left( \\frac{1}{1+\\theta} \\right)(n+g+\\delta)(\\kappa-\\kappa^*) $\n"
   ]
  },
  {
   "cell_type": "markdown",
   "metadata": {},
   "source": [
    "For historical reasons, every single other book writes, instead:\n",
    "\n",
    ">(1.16) $ \\frac{d\\kappa}{dt} = -(1-\\alpha)(n+g+\\delta)(\\kappa-\\kappa^*) $\n",
    "\n",
    "making the replacement:\n",
    "\n",
    ">(1.17) $ 1 - \\alpha = \\frac{1}{1+\\theta}  $\n",
    "\n",
    "where $ \\alpha $ is the share of income received by capital and $ 1 - \\alpha $ is the share of income received by labor in a two-factor constant-returns-to-scale economy in which the marginal product theory of distribution holds. To make some of our expressions simpler, we will sometimes copy this. But this is purely for convenience: there is no real difference between the $\\alpha$-forms and the $\\theta$-forms, for $ \\theta = \\alpha/(1-\\alpha) $ and $\\alpha = \\theta/(1+\\theta) $, and you can always move back and forth between them.\n",
    "\n",
    "From equation (1.16) and knowledge of the initial level of an economy's capital-intensity—$ \\kappa = \\kappa_0 $ at some initial moment we index as zero—it immediately follows that at every time $ t > 0 $:\n",
    "\n",
    ">(1.18) $ \\kappa_t = \\kappa^* + e^{-(1-\\alpha)(n+g+\\delta)t}(\\kappa_0 - \\kappa^*) $\n",
    "\n",
    "(1.16) holds always, for that moment's values of $n, g, \\delta, and s $ (and $\\alpha-\\theta)$ whatever they may be. (1.18) holds only while $n, g, \\delta, and s $ (and $\\alpha-\\theta)$ are constant. If any of them change, you then have to recalibrate and recompute, with a new initial value of $ \\kappa $ equal to its value when the model's parameters jumped, and a new and different value of $ \\kappa $. But if $n, g, \\delta, and s $ (and $\\alpha-\\theta)$ are constant or near-constant, then (1.18) is a very powerful tool: it tells us that the economy's capital-intensity $ \\kappa $ follows over time a path of exponential convergence, reducing the gap between its value at any time t and \\kappa^* $ to a fraction $ 1/e $ of its value at time $ t $ as of time $ t + \\Delta_{1/e}t $, where this $ 1/e $ convergence time is:\n",
    "\n",
    ">(1.19) $ \\Delta_{1/e}t = (1-\\alpha)(n+g+\\delta)$.\n",
    "\n",
    "From knowledge of (1.18), of the initial values of capital-intensity, the labor force, and the efficiency-of-labor $ \\kappa_0, L_0, and E_0 $, and of the parameters $ s, n, g, \\delta$, and $\\theta $ (or $\\alpha$), we can immediately calculate all the other variables in the economy from:\n",
    "\n",
    ">(1.20) $ Y_t = \\left(\\kappa_t \\right)^\\theta E_t L_t = \\left(\\kappa_t \\right)^\\theta e^{gt}E_0 e^{nt}L_0$\n",
    "\n",
    ">(1.21) $ y_t = \\left(\\kappa_t \\right)^\\theta E_t  = \\left(\\kappa_t \\right)^\\theta e^{gt}E_0 $\n",
    "\n",
    ">(1.22) $ K_t = \\kappa_t Y_t $\n",
    "\n",
    ">(1.23) $ L_t = e^{nt}L_0 $\n",
    "\n",
    ">(1.24) $ E_t = e^{gt}E_0 $"
   ]
  }
 ],
 "metadata": {
  "kernelspec": {
   "display_name": "Python 3",
   "language": "python",
   "name": "python3"
  },
  "language_info": {
   "codemirror_mode": {
    "name": "ipython",
    "version": 3
   },
   "file_extension": ".py",
   "mimetype": "text/x-python",
   "name": "python",
   "nbconvert_exporter": "python",
   "pygments_lexer": "ipython3",
   "version": "3.6.7"
  }
 },
 "nbformat": 4,
 "nbformat_minor": 4
}
