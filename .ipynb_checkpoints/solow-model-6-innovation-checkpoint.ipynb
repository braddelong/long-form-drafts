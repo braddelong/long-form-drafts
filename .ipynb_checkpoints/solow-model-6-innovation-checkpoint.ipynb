{
 "cells": [
  {
   "cell_type": "markdown",
   "metadata": {},
   "source": [
    "## <font color=\"880000\"> 6. What Economists Have to Say About Innovation, and the Rate of Ideas Growth </font>\n",
    "\n",
    "### <font color=\"000088\"> 6.1. The Depressing Bottom Line </font>\n",
    "\n",
    "Unfortunately, the bottom line is that economists have little that is terribly useful to say about the proportional rate $ h $ at which the human stock $ H $ of useful and valuable ideas about technology and organization increases. It would not be too much a parody to say that economists know only four things:\n",
    "\n",
    "1. People learn by doing: trying to produce, and succesfully producing, brings with it knowledge about how to produce more efficiently and effectively.\n",
    "2. People learn by investing: a great deal of knowledge is embodied in the particular capital goods themselves produced and deployed; if you do not invest, a great deal of your knowledge remains theoretical.\n",
    "3. People learn by researching and developing: focused attention on the process of developing technology can be very effective—much more so than simply relying on the side-effects of those whose major focus is on production itself\n",
    "4. Knowledge is non-rival: once it is generated, it can and should be spread as widely as possible, for there is no downside for society as a whole from sharing.\n",
    "\n",
    "But that—especially that without sound and solid quantitative estimates of the size and importance of these effects and channels—is rather thin gruel given that the growth and diffusion of useful knowledge about production and organization is the big enchilada in the process of economic growth.\n",
    "\n",
    "&nbsp;"
   ]
  },
  {
   "cell_type": "markdown",
   "metadata": {},
   "source": [
    "### <font color=\"000088\"> 6.2. Reviewing the Useful Literature </font>\n",
    "\n",
    "#### <font color=\"008800\"> 6.2.1. A Good Place to Start: Michael Kremer on Growth since One Million B.C.</font> \n",
    "\n",
    "**Michael Kremer** (1993): _Population Growth and Technological Change: One Million B.C. to 1990_ <https://delong.typepad.com/files/kremer-million.pdf>:\n",
    "\n",
    ">The long-run history of population growth and technological change is consistent with the population implications of models of endogenous technological change... a highly stylized model in which... the growth rate of technology is proportional to total population... the Malthusian assumption that population is limited by the available technology, so that the growth rate of population is proportional to the growth rate of technology. Combining these assumptions implies that the growth rate of population is proportional to the level of population.... The prediction that the population growth rate will be proportional to the level of population is broadly consistent with the data... until recently.... If population grows at finite speed when income is above its steady state... per capita income will rise over time. If population growth declines in income at high levels of income, as is consistent with a variety of theoretical models and with the empirical evidence, this gradual increase in income will eventually lead to a decline in population growth.... As the model predicts, the growth rate of population has been propor- tional to its level over most of history.... Among technologically separate societies, those with higher initial population had faster growth rates of technology and population...\n",
    "\n",
    "Two heads are better than one:\n",
    "\n",
    "Assume that output is given by\n",
    "\n",
    "> $ Y = Ap^\\alpha T^{1-\\alpha} $\n",
    "\n",
    "where A is the level of technology, p is population, and T is land, which is henceforth normalized to one. Per capita income $ y $ therefore equals $ Ap^{\\alpha - 1} $. opulation increases above the steady-state equilibrium level of per capita income $ y^* $ and decreases below it. Diminishing returns to labor imply that a unique level of population, $ p^* $ generates income $ y^* $:\n",
    "\n",
    "> $ p* = \\left( \\frac{A}{y^*} \\right)^{(1/(1-\\alpha))} $\n",
    "\n",
    "In a larger population there will be proportionally more people lucky or smart enough to come up with new ideas. If research productivity per person is independent of population and if A affects research output the same way it affects output of goods (linearly, by definition), then the rate of change of technology will be:\n",
    "\n",
    "> $ \\frac{dA}{dt} = \\pi Ap $\n",
    "\n",
    "Take the log derivative of the population determination equation:\n",
    "\n",
    "> $ \\frac{dln(p)}{dt} = \\left( \\frac{1}{1-\\alpha} \\right) \\frac{dln(A)}{dt} $\n",
    "\n",
    "and substitute in the expression for the growth rate of technology:\n",
    "\n",
    "> $ \\frac{dp}{dt} = \\frac{\\pi p^2}{1-\\alpha} $\n",
    "\n",
    "to get superexponential growth of population (and total income).\n",
    "\n",
    "&nbsp;"
   ]
  },
  {
   "cell_type": "markdown",
   "metadata": {},
   "source": [
    "#### <font color=\"008800\"> 6.2.2. Chad Jones on R &amp; D-Based Models of Economic Growth </font> \n",
    "\n",
    "**Charles I. Jones** (1995): _R&D-Based Models of Economic Growth_ <https://delong.typepad.com/files/jones-r--d.pdf>:\n",
    "\n",
    ">The prediction of permanent scale effects on growth from the R&D equation means that the models of \"Romer/Grossman-Helpman/Aghion-Howitt and others are all easily rejected.... However, the R&amp;D-based models [remain] intuitively very appealing.... [Is there] a way to maintain the basic structure of these models while eliminating the prediction of [permanent] scale effects [on the rate of growth?]...\n",
    "\n",
    "Jones's basic model:"
   ]
  },
  {
   "cell_type": "markdown",
   "metadata": {},
   "source": [
    ">$ \\frac{dH}{dt} = \\delta L_{stem}^{\\lambda} H^{\\phi} $\n",
    "\n",
    ">$ \\frac{dH/dt}{H} = \\delta L_{stem}^{\\lambda} H^{\\phi - 1} $"
   ]
  },
  {
   "cell_type": "markdown",
   "metadata": {},
   "source": [
    "In the steady-state:\n",
    "\n",
    ">$ \\lambda \\frac{1}{L_{stem}} \\frac{dL_{stem}}{dt} = (1 - \\phi) \\frac{dH/dt}{H} $\n",
    "\n",
    ">$ \\lambda n = (1 - \\phi) h^* $\n",
    "\n",
    ">$  \\frac{\\lambda n}{1 - \\phi} = \\delta L_{stem}^{\\lambda} (H^*)^{\\phi-1} $"
   ]
  },
  {
   "cell_type": "markdown",
   "metadata": {},
   "source": [
    "So the steady-state is characterized by:\n",
    "\n",
    ">$ h^* = \\left( \\frac{\\lambda}{1 - \\phi} \\right) n $\n",
    "\n",
    ">$ H^* = $\n",
    "$ \\left( \\frac{\\delta (1 - \\phi)}{\\lambda} \\right)^{1/(1-\\phi)} $\n",
    "$ \\left( \\frac{1}{n} \\right)^{1/(1-\\phi)}  $\n",
    "$ L_{stem}^{\\lambda/(1-\\phi)} $\n",
    "\n",
    "The rate of growth of the ideas stock along the steady-state growth path will be proportional to the rate of growth of the STEM labor force, and the level of the ideas stock along the steady-state growth path will vary inversely with the rate of growth $ n$  of the STEM labor force raised to the power $ {1/(1-\\phi)} $, and directly with the level $ L_{stem} $ of the STEM labor force raised to the power $ {\\lambda/(1-\\phi)} $.\n",
    "\n",
    "If $ H < H^* $, then $ H $ is growing faster than $ h^* $, and the scale variable $ H L_{stem}^{-\\lambda/(1-\\phi)} $ is rising.\n"
   ]
  },
  {
   "cell_type": "markdown",
   "metadata": {},
   "source": [
    "Noodling around:\n",
    "\n",
    ">$ \\frac{dH_t}{dt} = \\delta H_t^{\\phi}  L_0^{\\lambda} e^{\\lambda n t} $\n",
    "\n",
    ">$ \\frac{dH_t}{dt} = H_t^{\\phi} e^{\\lambda n t} $\n",
    "\n"
   ]
  },
  {
   "cell_type": "code",
   "execution_count": 29,
   "metadata": {},
   "outputs": [
    {
     "data": {
      "image/png": "[encoded data removed]",
      "text/plain": [
       "<Figure size 432x288 with 1 Axes>"
      ]
     },
     "metadata": {
      "needs_background": "light"
     },
     "output_type": "display_data"
    }
   ],
   "source": [
    "# watching how H evolves for different values\n",
    "# of STEM labor force growth, from 0 to 5%\n",
    "# per year\n",
    "\n",
    "import numpy as np\n",
    "import pandas as pd\n",
    "import matplotlib.pyplot as plt\n",
    "\n",
    "T = 400\n",
    "H_0 = 1\n",
    "n = [0, 0.01, 0.02, 0.03, 0.04, 0.05]\n",
    "nlabel = ['0%', '1%', '2%', '3%', '4%', '5%']\n",
    "φ = 0.1\n",
    "λ = 0.5\n",
    "J = []\n",
    "\n",
    "for i in range(6):\n",
    "    H = [H_0]\n",
    "    for t in range(T):\n",
    "        H = H + [H[t]+(H[t]**φ)*np.exp(λ*n[i]*t)]\n",
    "    J = J + [H]\n",
    "\n",
    "J_df = pd.DataFrame(J)\n",
    "\n",
    "Jones_df = J_df.transpose()\n",
    "\n",
    "Jones_df.columns=nlabel\n",
    "\n",
    "np.log(Jones_df).plot()\n",
    "\n",
    "plt.show()"
   ]
  },
  {
   "cell_type": "markdown",
   "metadata": {},
   "source": [
    "In the Malthusian régime, in which the workforce is near subsistence and increases with ideas as:\n",
    "\n",
    ">$ L = H^\\gamma $\n",
    "\n",
    ">$ \\frac{dH}{dt} = \\delta_{mal} H^{\\phi + \\gamma \\lambda} $\n",
    "\n",
    "After the Malthusian régime, population becomes constant and so:\n",
    "\n",
    ">$ \\frac{dH}{dt} = \\delta_{post} H^{\\phi} $"
   ]
  },
  {
   "cell_type": "markdown",
   "metadata": {},
   "source": [
    "25 bachelor's degrees per 1000 23 year olds in 1900\n",
    "\n",
    "300 bachelor's degrees per 1000 23 year olds today...\n",
    "\n",
    "60-fold multiplication in college graduates in the U.S....\n",
    "\n",
    "20-fold multiplication in h since 1870\n",
    "\n",
    ">$ \\frac{\\lambda}{1-\\phi} = \\frac{1}{3} $\n",
    "\n",
    "45,000,000\n",
    "\n",
    "Inflection points in the effective STEM workforce\n",
    "\n",
    "* writing\n",
    "* printing\n",
    "* formal education"
   ]
  }
 ],
 "metadata": {
  "kernelspec": {
   "display_name": "Python 3",
   "language": "python",
   "name": "python3"
  },
  "language_info": {
   "codemirror_mode": {
    "name": "ipython",
    "version": 3
   },
   "file_extension": ".py",
   "mimetype": "text/x-python",
   "name": "python",
   "nbconvert_exporter": "python",
   "pygments_lexer": "ipython3",
   "version": "3.7.4"
  }
 },
 "nbformat": 4,
 "nbformat_minor": 4
}
