{
 "cells": [
  {
   "cell_type": "markdown",
   "metadata": {},
   "source": [
    "## <font color=\"880000\"> 6. What Economists Have to Say About Innovation, and the Rate of Ideas Growth </font>\n",
    "\n",
    "### <font color=\"000088\"> 6.1. The Depressing Bottom Line </font>\n",
    "\n",
    "The rate of economic growth—first in population, and more recently in average living standards and productivity growth rates—hinges on the proportional rate of increase $ h $ in the human stock of useful ideas $ H $. And this rate has been extraordinarily variable in the long sweep of human history:\n",
    "\n",
    "<a class=\"asset-img-link\"  href=\"https://delong.typepad.com/.a/6a00e551f0800388340240a50742ab200b-pi\"><img class=\"asset  asset-image at-xid-6a00e551f0800388340240a50742ab200b img-responsive\" style=\"width: 600px; display: block; margin-left: auto; margin-right: auto;\" alt=\"135-longest-growth\" title=\"135-longest-growth\" src=\"https://delong.typepad.com/.a/6a00e551f0800388340240a50742ab200b-600wi\" /></a>\n",
    "\n",
    "Moreover, right now the divergences across national economies are as great as they have ever been, and orders of magnitude greater than they were three centuries ago or even one century ago. What insights can economists offer into these phenomena?\n",
    "\n",
    "Unfortunately, the bottom line is that economists have little that is terribly useful to say about the proportional rate $ h $ at which the human stock $ H $ of useful and valuable ideas about technology and organization increases. It would not be too much a parody to say that economists know only four things:\n",
    "\n",
    "1. People learn by doing: trying to produce, and succesfully producing, brings with it knowledge about how to produce more efficiently and effectively.\n",
    "2. People learn by investing: a great deal of knowledge is embodied in the particular capital goods themselves produced and deployed; if you do not invest, a great deal of your knowledge remains theoretical.\n",
    "3. People learn by researching and developing: focused attention on the process of developing technology can be very effective—much more so than simply relying on the side-effects of those whose major focus is on production itself\n",
    "4. Knowledge is non-rival: once it is generated, it can and should be spread as widely as possible, for there is no downside for society as a whole from sharing.\n",
    "\n",
    "But that—especially that without sound and solid quantitative estimates of the size and importance of these effects and channels—is rather thin gruel given that the growth and diffusion of useful knowledge about production and organization is the big enchilada in the process of economic growth.\n",
    "\n",
    "&nbsp;"
   ]
  },
  {
   "cell_type": "markdown",
   "metadata": {},
   "source": [
    "### <font color=\"000088\"> 6.2. Reviewing the Useful Literature </font>\n",
    "\n",
    "There is a literature, springing from Paul Romer's work in the 1980s, focusing on the implications of non-rivalry in the use of ideas: that one person's work in adding to $ H $ can rapidly benefit all. The first milestone to visit on our path through that literature is from Michael Kremer:\n",
    "\n",
    "&nbsp;\n",
    "\n",
    "#### <font color=\"008800\"> 6.2.1. Fitting the Entire Span of Human History: Michael Kremer on Growth since One Million B.C.</font> \n",
    "\n",
    "**Theory** (1993): Non-rivalry in the use of and non-crowding in the production of useful ideas about technology and organization are the fundamental underlying assumptions of: **Michael Kremer** (1993) _Population Growth and Technological Change: One Million B.C. to 1990_ <https://delong.typepad.com/files/kremer-million.pdf>:\n",
    "\n",
    ">The long-run history of population growth and technological change is consistent with the population implications of models of endogenous technological change... a highly stylized model in which... the growth rate of technology is proportional to total population... the Malthusian assumption that population is limited by the available technology, so that the growth rate of population is proportional to the growth rate of technology. Combining these assumptions implies that the growth rate of population is proportional to the level of population.... The prediction that the population growth rate will be proportional to the level of population is broadly consistent with the data... until recently.... If population grows at finite speed when income is above its steady state... per capita income will rise over time. If population growth declines in income at high levels of income, as is consistent with a variety of theoretical models and with the empirical evidence, this gradual increase in income will eventually lead to a decline in population growth.... As the model predicts, the growth rate of population has been propor- tional to its level over most of history.... Among technologically separate societies, those with higher initial population had faster growth rates of technology and population...\n",
    "\n",
    "In short, two heads are better than one:\n",
    "\n",
    "Assume that output is given by\n",
    "\n",
    "> $ Y = Ap^\\alpha T^{1-\\alpha} $\n",
    "\n",
    "where A is the level of technology, p is population, and T is land, which is henceforth normalized to one. Per capita income $ y $ therefore equals $ Ap^{\\alpha - 1} $. opulation increases above the steady-state equilibrium level of per capita income $ y^* $ and decreases below it. Diminishing returns to labor imply that a unique level of population, $ p^* $ generates income $ y^* $:\n",
    "\n",
    "> $ p* = \\left( \\frac{A}{y^*} \\right)^{(1/(1-\\alpha))} $\n",
    "\n",
    "In a larger population there will be proportionally more people lucky or smart enough to come up with new ideas. If research productivity per person is independent of population and if A affects research output the same way it affects output of goods (linearly, by definition), then the rate of change of technology will be:\n",
    "\n",
    "> $ \\frac{dA}{dt} = \\pi Ap $\n",
    "\n",
    "Take the log derivative of the population determination equation:\n",
    "\n",
    "> $ \\frac{dln(p)}{dt} = \\left( \\frac{1}{1-\\alpha} \\right) \\frac{dln(A)}{dt} $\n",
    "\n",
    "and substitute in the expression for the growth rate of technology:\n",
    "\n",
    "> $ \\frac{dp}{dt} = \\frac{\\pi p^2}{1-\\alpha} $\n",
    "\n",
    "to get superexponential growth of population (and total income)—as long as the Malthusian régime lasts, there is no demographic transition, ."
   ]
  },
  {
   "cell_type": "markdown",
   "metadata": {},
   "source": [
    "To get an idea of what this means, let us run a computational experiment. There were 2.5 million people 10,000 years ago, at the invention of agriculture. There were 15 million people 5,000 years ago, at the invention of writing. There were 170 million people in the year 1. Let's calibrate this model to 2.5 million people in the year -8000 and 15 million people in the year -3000: a value of $ π/(1-α) = 0.00006666 $ serves. But that value predicts that human population would cross 170 million heading upwards not in the year 1 but in the year -2080: early in the Bronze Age.\n",
    "\n",
    "&nbsp;"
   ]
  },
  {
   "cell_type": "code",
   "execution_count": 19,
   "metadata": {
    "jupyter": {
     "source_hidden": true
    }
   },
   "outputs": [
    {
     "name": "stdout",
     "output_type": "stream",
     "text": [
      "2.5  : -8000\n",
      "14.96574521797671  : -3000\n"
     ]
    },
    {
     "data": {
      "image/png": "[encoded data removed]",
      "text/plain": [
       "<Figure size 432x288 with 1 Axes>"
      ]
     },
     "metadata": {
      "needs_background": "light"
     },
     "output_type": "display_data"
    }
   ],
   "source": [
    "# fitting the Kremer model to historical population\n",
    "# for years -8000 and -3000:\n",
    "\n",
    "import numpy as np\n",
    "import pandas as pd\n",
    "import matplotlib.pyplot as plt\n",
    "%matplotlib inline\n",
    "\n",
    "Year = [-8000]\n",
    "P = [2.5]\n",
    "α = 0.5\n",
    "π = 0.00003333\n",
    "\n",
    "for t in range(-7999, -2080):\n",
    "    Year = Year + [t]\n",
    "    P = P + [P[t+7999] + π*P[t+7999]**2/(1-α)]\n",
    "\n",
    "List = [Year, P]\n",
    "P_df = pd.DataFrame(List).transpose()\n",
    "P_df['Log Population'] = np.log(P)\n",
    "nlabel = ['Year', 'Population', 'Log_Population']\n",
    "P_df.columns=nlabel\n",
    "P_df.set_index('Year', inplace = True)\n",
    "\n",
    "print(P_df.Population[-8000], ' : -8000')\n",
    "print(P_df.Population[-3000], ' : -3000')\n",
    "# print(P_df.Population[0], ' : 0')\n",
    "\n",
    "P_df.Population.plot()\n",
    "\n",
    "plt.ylabel('Population')\n",
    "plt.xlabel('Years')\n",
    "plt.title(' Human Population')\n",
    "plt.show()"
   ]
  },
  {
   "cell_type": "markdown",
   "metadata": {},
   "source": [
    "If we want to fit our three pre-1 benchmarks, we cannot have two heads being fully as good as one. So, instead, let us assume not that a 1% increase in the STEM workforce raises the rate of technological progress by 1% but rather by λ% for some parameter λ. So the dynamics for population then become:\n",
    "\n",
    "> $ \\frac{dp}{dt} = \\frac{\\pi p^{1+\\lambda}}{1-\\alpha} $\n",
    "\n",
    "$ α = 0.5 $, $ π = 0.00003264 $, $ λ = 0.8529 $ fit the pre-1 benchmaerks well. But those benchmarks predict that the human population would have exploded in the following two centuries, and crossed rthe world's current population of 7.6 billion in the year 221. Even if two heads are not quite as good as one—are only 1.85 times as good as one—there need to be other sources of drag in order to have kept the world from an Industrial Revolution-class breakthrough late in the Later Han, and under the late Antonine and Severian dynasties:"
   ]
  },
  {
   "cell_type": "code",
   "execution_count": 118,
   "metadata": {},
   "outputs": [
    {
     "name": "stdout",
     "output_type": "stream",
     "text": [
      "2.5  : -8000\n",
      "7.49735348567426  : -3000\n",
      "170.08530935003728  : 0\n"
     ]
    },
    {
     "data": {
      "image/png": "[encoded data removed]",
      "text/plain": [
       "<Figure size 432x288 with 1 Axes>"
      ]
     },
     "metadata": {
      "needs_background": "light"
     },
     "output_type": "display_data"
    }
   ],
   "source": [
    "# fitting the Kremer model to historical population\n",
    "# for years -8000, -3000, and 1:\n",
    "\n",
    "import numpy as np\n",
    "import pandas as pd\n",
    "import matplotlib.pyplot as plt\n",
    "%matplotlib inline\n",
    "\n",
    "Year = [-8000]\n",
    "P = [2.5]\n",
    "α = 0.5\n",
    "π = 0.00003264\n",
    "λ = 0.8529\n",
    "\n",
    "\n",
    "for t in range(-7999, 221):\n",
    "    Year = Year + [t]\n",
    "    P = P + [P[t+7999] + π*P[t+7999]**(1+λ)/(1-α)]\n",
    "\n",
    "List = [Year, P]\n",
    "P_df = pd.DataFrame(List).transpose()\n",
    "P_df['Log Population'] = np.log(P)\n",
    "nlabel = ['Year', 'Population', 'Log_Population']\n",
    "P_df.columns=nlabel\n",
    "P_df.set_index('Year', inplace = True)\n",
    "\n",
    "print(P_df.Population[-8000], ' : -8000')\n",
    "print(P_df.Population[-3000], ' : -3000')\n",
    "print(P_df.Population[0], ' : 0')\n",
    "\n",
    "P_df.Population.plot()\n",
    "\n",
    "plt.ylabel('Population')\n",
    "plt.xlabel('Years')\n",
    "plt.title(' Human Population')\n",
    "plt.show()"
   ]
  },
  {
   "cell_type": "markdown",
   "metadata": {},
   "source": [
    "**How Well Does This Fit Human History?**: Still, all in all, Michael Kremer says: it does not fit badly badly. And, indeed, up to 1900 the rate of change of the human population is indeed roughly proportional to the square of the population—as long as we start not with the invention of agriculture but with the invention of writing, and with a hiccup as the Roman and Han empires collapsed in the second third of the first millennium. After 1900 things fall apart: increasing populations and the increasing ability of people to use technology and wealth to help their investigations do not pay dividends, either in further accelerating population growth or in increasing the rate of growth of global incomes.\n",
    "\n",
    "<a class=\"asset-img-link\" href=\"https://delong.typepad.com/.a/6a00e551f0800388340240a4e24ab8200d-pi\"><img class=\"asset  asset-image at-xid-6a00e551f0800388340240a4e24ab8200d img-responsive\" style=\"width: 600px; display: block; margin-left: auto; margin-right: auto;\" alt=\"Kremer-plots\" title=\"Kremer-plots\" src=\"https://delong.typepad.com/.a/6a00e551f0800388340240a4e24ab8200d-600wi\" /></a>\n",
    "\n",
    "&nbsp;\n",
    "\n",
    "Nevertheless, two heads are better than one. Or maybe not: surely the effective STEM labor force depends on means of knowledge recording and communication. And it is not foolish to expect _ex ante_ that there would be some diminishing returns from exhaustion of low-hanging fruit at some point. We do seem to see a jump up in growth with the invention of writing, and cities. Shouldn't we also see a jump up with the alphabet? Shouldn't we also see a jump up with the invention of printing? Perhaps the effects of the picking of the low-hanging fruit in exhausting opportunities and slowing growth civilization-wide are visible in the slowdown after the year one. Perhaps the effective STEM labor force gets big bumps up with the alphabet and with printing that together, in the large, offset this exhaustion.\n",
    "\n",
    "Clearly, however, two heads are better than one will not suffice to understand the relative constancy of global economic growth rates since the coming of modern economic growth around 1870, or even the failure of Roman and Han civilization to usher in an industrial revolution.\n",
    "\n",
    "&nbsp;"
   ]
  },
  {
   "cell_type": "markdown",
   "metadata": {},
   "source": [
    "#### <font color=\"008800\"> 6.2.2. Chad Jones on R &amp; D-Based Models of Economic Growth </font> \n",
    "\n",
    "The insights that knowledge is key and that knowledge is non-rival are now nearly two centuries old. We can find them in in 1843: **Friedrich Engels** (1843): _Outlines of a Critique of Political Economy_ <https://www.marxists.org/archive/marx/works/1844/df-jahrbucher/outlines.htm>: \n",
    "\n",
    ">According to the economists, the production costs of a commodity consist of three elements: the rent for the piece of land required to produce the raw material; the capital with its profit, and the wages for the labour required for production and manufacture.... [Since] capital is “stored-up labour”... two sides–the natural, objective side, land; and the human, subjective side, labour, which includes capital and, besides capital, a third factor which the economist does not think about–I mean the mental element of invention, of thought, alongside the physical element of sheer labour.\n",
    "\n",
    ">What has the economist to do with inventiveness? Have not all inventions fallen into his lap without any effort on his part? Has one of them cost him anything? Why then should he bother about them in the calculation of production costs? Land, capital and labour are for him the conditions of wealth, and he requires nothing else. Science is no concern of his.\n",
    "\n",
    ">What does it matter to him that he has received its gifts through Berthollet, Davy, Liebig, Watt, Cartwright, etc.–gifts which have benefited him and his production immeasurably? He does not know how to calculate such things; the advances of science go beyond his figures. But in a rational order which has gone beyond the division of interests as it is found with the economist, the mental element certainly belongs among the elements of production and will find its place, too, in economics among the costs of production. \n",
    "\n",
    ">And here it is certainly gratifying to know that the promotion of science also brings its material reward; to know that a single achievement of science like James Watt’s steam-engine has brought in more for the world in the first fifty years of its existence than the world has spent on the promotion of science since the beginning of time... \n",
    "\n",
    "Can we preserve the insights that ideas are non-rival and that technology is the ballgame and still understand why growth did not accelerate faster early in the first millennium and, in fact, has not further accelerated since the late 1800s? Chad Jones believes we can, and he lays out his case in **Charles I. Jones** (1995): _R&D-Based Models of Economic Growth_ <https://delong.typepad.com/files/jones-r--d.pdf>:\n",
    "\n",
    ">The prediction of permanent scale effects on growth from the R&D equation means that the models of Romer/Grossman-Helpman/Aghion-Howitt and others are all easily rejected.... However, the R&amp;D-based models [remain] intuitively very appealing.... [Is there] a way to maintain the basic structure of these models while eliminating the prediction of [permanent] scale effects [on the rate of growth?]...\n",
    "\n",
    "Jones's answer is \"yes\". Jones accomplishes this by building a basic model that has both (a) an \"as the low-hanging technological fruit is picked, maintaining the same proportional growth rate for the ideas stock $ H $ becomes harder\" effect (the parameter $ \\phi < 1 $); and (b) an \"as the STEM workforce increases, researchers tend to step on each others' toes and get in each others' way\" effect (the parameter $ \\lambda < 1 $):"
   ]
  },
  {
   "cell_type": "markdown",
   "metadata": {},
   "source": [
    ">$ \\frac{dH}{dt} = \\delta L_{stem}^{\\lambda} H^{\\phi} $\n",
    "\n",
    ">$ \\frac{dH/dt}{H} = \\delta L_{stem}^{\\lambda} H^{\\phi - 1} $"
   ]
  },
  {
   "cell_type": "markdown",
   "metadata": {},
   "source": [
    "To gain some intuition, let's consider six different economies in which the rate of growth $ n $ of the STEM labor force varies from 0 to 6% per year, in which the initial levels of both the ideas stock $ H_0 $ and the STEM labor force $ L_0 $ are set at 1, and let us set the R&amp;D crowding parameter $ \\lambda = 0.5 $ and, just to get striking results, the exhaustion of low hanging fruit parameter at the very low level of $ \\phi = 0.1 $. Looking out at the evolution of the log of the ideas stock for 400 years:"
   ]
  },
  {
   "cell_type": "code",
   "execution_count": null,
   "metadata": {},
   "outputs": [],
   "source": [
    "# watching how H evolves for different values\n",
    "# of STEM labor force growth, from 0 to 5%\n",
    "# per year\n",
    "\n",
    "import numpy as np\n",
    "import pandas as pd\n",
    "import matplotlib.pyplot as plt\n",
    "%matplotlib inline\n",
    "\n",
    "T = 400\n",
    "H_0 = 1\n",
    "n = [0, 0.01, 0.02, 0.03, 0.04, 0.05]\n",
    "nlabel = ['0%', '1%', '2%', '3%', '4%', '5%']\n",
    "φ = 0.1\n",
    "λ = 0.5\n",
    "L_0 = 1\n",
    "J = []\n",
    "\n",
    "\n",
    "for i in range(6):\n",
    "    H = [H_0]\n",
    "    for t in range(T):\n",
    "        H = H + [H[t]+(H[t]**φ)*L_0**λ*np.exp(λ*n[i]*t)]\n",
    "    J = J + [H]\n",
    "\n",
    "J_df = pd.DataFrame(J)\n",
    "\n",
    "Jones_df = J_df.transpose()\n",
    "\n",
    "Jones_df.columns=nlabel\n",
    "\n",
    "np.log(Jones_df).plot()\n",
    "\n",
    "plt.ylabel('Log Ideas Stock')\n",
    "plt.xlabel('Years')\n",
    "plt.title('Log of Ideas Stock for n Between 0 and 6% per Year')\n",
    "plt.show()"
   ]
  },
  {
   "cell_type": "markdown",
   "metadata": {},
   "source": [
    "What is going on here? We can see that the ideas stock $ H $ is heading for some steady-state growth rate. And for that to happen the increase in the effective STEM labor force $ L_{STEM}^{\\lambda} $ has to be exactly offset by diminishing returns to innovative effort $ \\delta H^{\\phi - 1} $. Thus along the ideas-stock steady-state balanced-growth path:\n",
    "\n",
    ">$ \\lambda \\frac{1}{L_{stem}} \\frac{dL_{stem}}{dt} = (1 - \\phi) \\frac{dH/dt}{H} $\n",
    "\n",
    ">$ \\lambda n = (1 - \\phi) h^* $\n",
    "\n",
    "The level of ideas $ H^* $ at which that growth rate $ h^* $ would be attained is characterized by:\n",
    "\n",
    ">$  \\frac{\\lambda n}{1 - \\phi} = \\delta L_{stem}^{\\lambda} (H^*)^{\\phi-1} $"
   ]
  },
  {
   "cell_type": "markdown",
   "metadata": {},
   "source": [
    "So $ H $ grows more rapidly than $ h^* $ until it closes in on the value of $ H^* $ that is on the steady-state balanced-growth path:\n",
    "\n",
    ">$ H^* = $\n",
    "$ \\left( \\frac{\\delta (1 - \\phi)}{\\lambda} \\right)^{1/(1-\\phi)} $\n",
    "$ \\left( \\frac{1}{n} \\right)^{1/(1-\\phi)}  $\n",
    "$ L_{stem}^{\\lambda/(1-\\phi)} $\n",
    "\n",
    "And then the growth rate in the steady-state is characterized by:\n",
    "\n",
    ">$ h^* = \\left( \\frac{\\lambda}{1 - \\phi} \\right) n $\n",
    "\n",
    "Thus the rate of growth of the ideas stock along the steady-state balanced-growth growth path will be proportional to the rate of growth of the STEM labor force with constant of proportionality $ \\lambda / (1 - \\phi) $ (the degree to which more researchers step on one anothers' toes divided by how important it is that the low-hanging innovation fruit has already been picked), and the level of the ideas stock along the steady-state growth path will vary inversely with the rate of growth $ n$  of the STEM labor force raised to the power $ {1/(1-\\phi)} $, and directly with the level $ L_{stem} $ of the STEM labor force raised to the power $ {\\lambda/(1-\\phi)} $.\n",
    "\n",
    "If $ H < H^* $, then $ H $ is growing faster than $ h^* $, and the scale variable $ H L_{stem}^{-\\lambda/(1-\\phi)} $ is rising. When $ H = H^* $, then $ h = h^* $, and the scale variable is then constant:\n",
    "\n",
    ">$ H L_{stem}^{-\\lambda/(1-\\phi)} = \\left( \\delta (1 - \\phi)/\\lambda \\right)^{1/(1-\\phi)} n^{-1/(1-\\phi)}  $ "
   ]
  },
  {
   "cell_type": "markdown",
   "metadata": {},
   "source": [
    "And, indeed, looking at the levels of the ideas stock over 150 years reveals, first, initial superexponential growth; that growth rate then declines until the growth rate asymptotes (for $ n > 0 $) to merely exponential growth at the rate $ h^* = \\lambda n / (1 - \\phi ) $ :"
   ]
  },
  {
   "cell_type": "code",
   "execution_count": null,
   "metadata": {
    "jupyter": {
     "source_hidden": true
    }
   },
   "outputs": [],
   "source": [
    "# watching how H evolves for different values\n",
    "# of STEM labor force growth, from 0 to 5%\n",
    "# per year\n",
    "\n",
    "import numpy as np\n",
    "import pandas as pd\n",
    "import matplotlib.pyplot as plt\n",
    "%matplotlib inline\n",
    "\n",
    "T = 150\n",
    "H_0 = 1\n",
    "n = [0, 0.01, 0.02, 0.03, 0.04, 0.05]\n",
    "nlabel = ['0%', '1%', '2%', '3%', '4%', '5%']\n",
    "φ = 0.1\n",
    "λ = 0.5\n",
    "L_0 = 1\n",
    "J = []\n",
    "\n",
    "\n",
    "for i in range(6):\n",
    "    H = [H_0]\n",
    "    for t in range(T):\n",
    "        H = H + [H[t]+(H[t]**φ)*L_0**λ*np.exp(λ*n[i]*t)]\n",
    "    J = J + [H]\n",
    "\n",
    "J_df = pd.DataFrame(J)\n",
    "\n",
    "Jones_df = J_df.transpose()\n",
    "\n",
    "Jones_df.columns=nlabel\n",
    "\n",
    "Jones_df.plot()\n",
    "\n",
    "plt.ylabel('Ideas Stock')\n",
    "plt.xlabel('Years')\n",
    "plt.title('Ideas Stock for n Between 0 and 6% per Year')\n",
    "plt.show()"
   ]
  },
  {
   "cell_type": "markdown",
   "metadata": {},
   "source": [
    "&nbsp;\n",
    "\n",
    "We can also start with the Jones model dynamic equations:\n",
    "\n",
    ">$ \\frac{dH_t}{dt} = \\delta H_t^{\\phi}  L_0^{\\lambda} e^{\\lambda n t} $\n",
    "\n",
    ">$ \\frac{dH_t}{dt} = H_t^{\\phi} e^{\\lambda n t} $"
   ]
  },
  {
   "cell_type": "markdown",
   "metadata": {},
   "source": [
    "And consider how they would operate back in the Malthusian régime, in which the workforce is near subsistence and increases with ideas as:\n",
    "\n",
    ">$ L = H^\\gamma $\n",
    "\n",
    ">$ \\frac{dH}{dt} = \\delta_{mal} H^{\\phi + \\gamma \\lambda} $\n",
    "\n",
    "After the Malthusian régime ends, if the population were to then become constant, we would find a shift to:\n",
    "\n",
    ">$ \\frac{dH}{dt} = \\delta_{post} H^{\\phi} $\n",
    "\n",
    "&nbsp;"
   ]
  },
  {
   "cell_type": "markdown",
   "metadata": {},
   "source": [
    "**Notes and Musings**:\n",
    "\n",
    "25 bachelor's degrees per 1000 23 year olds in 1900...\n",
    "\n",
    "300 bachelor's degrees per 1000 23 year olds today...\n",
    "\n",
    "60-fold multiplication in college graduates in the U.S....\n",
    "\n",
    "20-fold multiplication in h since 1870\n",
    "\n",
    ">$ \\frac{\\lambda}{1-\\phi} = \\frac{1}{3} $\n",
    "\n",
    "45,000,000\n",
    "\n",
    "Inflection points in the effective STEM workforce\n",
    "\n",
    "* writing\n",
    "* printing\n",
    "* formal education"
   ]
  },
  {
   "cell_type": "markdown",
   "metadata": {},
   "source": [
    "&nbsp;\n",
    "\n",
    "## <font color=\"880000\"> Lecture Notes: What Economists Have to Say About the Rate of Ideas Growth </font>\n",
    "\n",
    "<img src=\"https://tinyurl.com/20181029a-delong\" width=\"300\" style=\"float:right\" />\n",
    "\n",
    "* Ask me two questions…\n",
    "* Make two comments…\n",
    "* Further reading…\n",
    "\n",
    "<br clear=\"all\" />\n",
    "\n",
    "----\n",
    "\n",
    "weblog support: <https://github.com/braddelong/long-form-drafts/blob/master/solow-model-6-innovation.ipynb>    \n",
    "nbViewer: <https://nbviewer.jupyter.org/github/braddelong/long-form-drafts/blob/master/solow-model-6-innovation.ipynb>\n",
    "\n",
    "&nbsp;\n",
    "\n",
    "----"
   ]
  },
  {
   "cell_type": "markdown",
   "metadata": {},
   "source": [
    "**Memo**:\n",
    "\n",
    "<https://nbviewer.jupyter.org/github/braddelong/long-form-drafts/blob/master/solow-model.ipynb?flush_cache=true>    \n",
    "<https://nbviewer.jupyter.org/github/braddelong/long-form-drafts/blob/master/solow-model-2-basics.ipynb?flush_cache=true>   \n",
    "<https://nbviewer.jupyter.org/github/braddelong/long-form-drafts/blob/master/solow-model-3-growing.ipynb?flush_cache=true>   \n",
    "<https://nbviewer.jupyter.org/github/braddelong/long-form-drafts/blob/master/solow-model-4-using.ipynb?flush_cache=true>   \n",
    "<https://nbviewer.jupyter.org/github/braddelong/long-form-drafts/blob/master/solow-model-5-pre-industrial.ipynb?flush_cache=true>   \n",
    "<https://nbviewer.jupyter.org/github/braddelong/long-form-drafts/blob/master/solow-model-6-innovation.ipynb?flush_cache=true>"
   ]
  }
 ],
 "metadata": {
  "kernelspec": {
   "display_name": "Python 3",
   "language": "python",
   "name": "python3"
  },
  "language_info": {
   "codemirror_mode": {
    "name": "ipython",
    "version": 3
   },
   "file_extension": ".py",
   "mimetype": "text/x-python",
   "name": "python",
   "nbconvert_exporter": "python",
   "pygments_lexer": "ipython3",
   "version": "3.7.4"
  }
 },
 "nbformat": 4,
 "nbformat_minor": 4
}
