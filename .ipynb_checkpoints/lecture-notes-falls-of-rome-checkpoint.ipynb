{
 "cells": [
  {
   "cell_type": "markdown",
   "metadata": {},
   "source": [
    "# <font color=\"880000\"> Falls of Rome </font>\n",
    "\n",
    "There are five \"falls of Rome\":\n",
    "\n",
    "1. The fall of the Roman Republic—the transformation from the Free State of the _nobiles_ that had conquered the core of the empire to the imperial Principate of Augustus and his successors.\n",
    "\n",
    "2. The post-Antonine dynasty decline from the civilizational peak.\n",
    "\n",
    "3. The fall of the Roman Empire in the West.\n",
    "\n",
    "4. The fall of the Roman Empire in the East I—its reduction to Anatolia, Greece, and some of the Balkans.\n",
    "\n",
    "5. The fall of the Roman Empire in the East II: the Road to Manzikert—after which it was just another power, and not an especially great one.\n",
    "\n",
    "&nbsp;\n",
    "\n",
    "----"
   ]
  },
  {
   "cell_type": "markdown",
   "metadata": {},
   "source": [
    "## <font color=\"880000\"> The Fall of the Roman Republic </font>\n",
    "\n",
    "&nbsp;\n",
    "\n",
    "----"
   ]
  },
  {
   "cell_type": "markdown",
   "metadata": {},
   "source": [
    "## <font color=\"880000\"> The Post-Antonine Decline </font>\n",
    "\n",
    "&nbsp;\n",
    "\n",
    "----\n",
    "\n",
    "## <font color=\"880000\"> The Fall of the Roman Empire in the West </font>\n",
    "\n",
    "Related to Goldsworthy's musings on the opening-up of the contest for power, but not quite the same. Goldsworthy says that up until 200 or so you had to be a senator to be a field army commander, and so only senators could make a grab for the empire by gaining the loyalty of their field army. Goldsworthy further says that after 200 emperors thought that if they kept senators from army command then they wouldn't have to worry about frontier generals making a bid for power--for who in Rome would agree to be ruled by some upstart whose ancestors had never been a senator? And Goldsworthy says that was a big mistake: it multiplied potential contenders for power and the damage done by civil wars rather than reducing them.\n",
    "\n",
    "I think it is more complicated than that: after all the empire, even in the west, held on for more than 200 years after the purging of the senatorial class from army command.\n",
    "\n",
    "What appears to have killed it in the end was the rise of a set of military politicians who were both Roman generals—hence able to get segments of the Roman army to follow them and know how to use the Roman logistical infrastructure to support their troops—and barbarian war chiefs whose warriors would follow them for \"ethnic\" and \"ethnogenesis\" reasons as well. Such leaders turned out to have a big advantage in the fifth century as they combined two sources of power. And in the end some of them decided that they would rather try to be secure as barbarian king of a region carved out of the empire rather than aiming for imperial dominance. Flavius Stilicho, the Vandal. Flavius Aetius, not a Hun but somebody who had been raised among the Huns and had _carte blanche_ to raise Hunnish armies—when he was not fighting Attila, that is. Alaric, King of the Visigoths and also Magister Militum per Illyricum. Theodoric the Amal, King of the Ostrogoths and also Magister Militium per Italiam. That was a change made possible by the (centuries before) purging of the Roman senatorial class from army command. But it was not the same thing.\n",
    "\n",
    "&nbsp;\n",
    "\n",
    "----\n",
    "\n",
    "## <font color=\"880000\"> The Fall of the Roman Empire in the East </font>\n",
    "\n",
    "Repeated heresy-hunts by emperors and patriarchs against fellow Christians—the heresy-hunts against Arians and Monophysites and others so that, when enemies like the successors of Mohammed showed up, nobody in Egypt or Syria wanted to fight to remain in the empire so that they could get persecuted again. The religious tolerance practiced by expanding Islam was a major string to their bow.\n",
    "\n",
    "&nbsp;\n",
    "\n",
    "----"
   ]
  },
  {
   "cell_type": "markdown",
   "metadata": {},
   "source": [
    "## <font color=\"880000\"> Falls of Rome </font>\n",
    "\n",
    "<img src=\"https://tinyurl.com/20190119a-delong\" width=\"300\" style=\"float:right\" />\n",
    "\n",
    "### <font color=\"000088\">Catch Our Breath—Further Notes:</font>\n",
    "\n",
    "<br clear=\"all\" />\n",
    "\n",
    "----\n",
    "\n",
    "* Weblog Support <https://github.com/braddelong/long-form-drafts/blob/master/lecture-notes-falls-of-rome.ipynb>\n",
    "* nbViewer <https://nbviewer.jupyter.org/github/braddelong/long-form-drafts/blob/master/lecture-notes-falls-of-rome.ipynb>\n",
    "\n",
    "&nbsp;\n",
    "\n"
   ]
  }
 ],
 "metadata": {
  "kernelspec": {
   "display_name": "Python 3",
   "language": "python",
   "name": "python3"
  },
  "language_info": {
   "codemirror_mode": {
    "name": "ipython",
    "version": 3
   },
   "file_extension": ".py",
   "mimetype": "text/x-python",
   "name": "python",
   "nbconvert_exporter": "python",
   "pygments_lexer": "ipython3",
   "version": "3.6.7"
  }
 },
 "nbformat": 4,
 "nbformat_minor": 4
}
