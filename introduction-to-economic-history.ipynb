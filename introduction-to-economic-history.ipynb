{
 "cells": [
  {
   "cell_type": "markdown",
   "metadata": {},
   "source": [
    "# <font color=\"880000\"> Introduction to Economic History </font>\n",
    "## <font color=\"880000\"> The Ancient Economy </font>\n",
    "\n",
    "70,000 years ago, back in the Old Stone Age, there were perhaps 100,000 of _us_—100,000 East African Plains Apes who looked like us, moved like us, acted like us, talked like us, and from whom the overwhelming proportion of all of our heredity is derived. Yes, we have small admixtures (5%?) from other groups and subspecies and may be even species, but overwhelmingly we are those proto-hundred-thousand's children, and we are all all of their children: it is overwhelmingly likely that each of those who still has living descendants today has a place—has an astronomical number of places—on our <http://ancestry.com> family tree.\n",
    "\n",
    "Back then we were very smart herd animals. We gathered, we hunted (some), we protected ourselves, we made stone and wood tools, we understood our environment, we manipulated our environment, we communicated with each other, we cooperated and we fought, we talked, and we did the things that humans. Our standard of living? If we had to slot it into the world today, we might call it 3.25 dollars a day. Resources were not scarce, our knowledge of our East African environment was profound, and we probably had to spend a little more than one-third of our waking hours collecting 2000 calories plus essential nutrients each day, plus enough shelter and fire and clothing that we were not unduly wet or cold. We were buff: life was strenuous, especially hauling around a family in our then-seminomadic lifestyle. We were shortlived: a life expectancy at birth of perhaps 25-30: life was strenuous.\n",
    "\n",
    "There are things that are objective and can be measured: five bushels of properly-threshed barley kernels, or three gallons of water. There are things that are subjective that can nevertheless be accurately measured in an objective form: the feeling of heat, for example: this Northern California hot tub here in the fog feels hot, and, indeed, is at a temperature of 105F: its molecules have thermal kinetic energy above that of absolute zero by 565/180 times the difference in thermal kinetic energy between water on the edge of boiling and water on the edge of freezing. There are things that are subjective that cannot be measured: anger, rage, and sorrow. Economists start with objetively measured prices and quantities of goods and services exchanged in markets, and then go on to construct quantitative measures of subjective things like willingnesses-to-pay and willingnesses-to-substitute and values and so forth. Mid-twentieth century British economist John Maynard Keynes warned us against carrying this too far:\n",
    "\n",
    ">Approximate statistical comparisons depending on some broad element of judgment rather than of strict calculation… may possess significance and validity within certain limits. But the proper place for such things... lies within the field of historical and statistical description, and their purpose should be to satisfy historical or social curiosity... of a similar character to the statement that Queen Victoria was a better queen but not a happier woman than Queen Elizabeth—a proposition not without meaning and not without interest, but unsuitable as material for the differential calculus. Our precision will be a mock precision if we try to use such partly vague and non-quantitative concepts as the basis of a quantitative analysis...\n",
    "\n",
    "Neverthless we do carry it far. For example, we have our estimates of how many people there were—100-thousand 70-thousand years ago, 3-million ten-thousand years ago—and we have our estimates of what their standard of living was on average—3.25 dollars per day. We can then make truly heroic assumptions and construct a quantitative index $ H $ of the _value_ of the useful ideas about how to cooperate and manipulate the environment in order to provide one another with what we need, find convenient, and simply want. Set that index $ H_{-68000} $—the index of the level of human technological and organizational knowledge 70-thousand years ago, in 68-thousand BC by the common calendar—to 1. \n",
    "\n",
    "Flash-forward 60,000 years, to 10,000 years ago, on the very eve of the invention/discovery of agriculture and of animal domestication. Things were much the same, save that there were then not one-hundred thousand of us in East Africa but rather perhaps two-and-a-half million of us, well, pretty much everywhere. Our living standards were much the same as they had been. We had better tools, but they were of stone and wood, plus fur and fiber, and not yet metal: it was still the Middle Stone Age. Our knowledge of our environment—or rather environments—was more profound, and so was our power to manipulate them. But in each environment we lived in we found ourselves in rough ecological balance. As of 8000 BC the index $ H_{-8000} $ stands at 5. \n",
    "\n",
    "Then comes the upward leap of the Neolithic Revolution: 2000 years later we are (poor) agriculturalists and (unsophisticated) herders of barely domesticated animals, with a human population of perhaps 7 million, but a lower living standard of perhaps 2.50 dollars a day, with an index $ H_{-6000} = 6.5 $. Why a near-tripling of population? Because living was easier when you were sedentary or semi-sedentary: you no longer had to carry babies substantial distances, and you could accumulate more useful stuff than you could personally carry. Plus even early agriculture and herding were very productive relative to what had come before. Since life was easier, more babies survived to grow up and themselves reproduce? Why a fall in the standard of living? Because population grew until humanity was once again in ecological balance, with population expanded to the environment's carrying capacity given technology and organization. But what keeps population from growing further? The fact that life has become harder again. But it became harder in a different way: agriculturalists are shorter, malnourished, prone to endemic diseases, and vulnerable to plagues relative to gatherer-hunters.\n",
    "\n",
    "Then comes further development of agriculture, literacy, civilization: by year 1 the index $ H_{1} = 31 $. By year 1500 we have $ H_{1500} = 53 $. By 1500 we have 500 million humans compared to the 7 million of 6000 BC. But typical standards of living seem much the same: still 2.5 dollars a day. This is a _Malthusian Equilibrium_: vast improvements in technological and organizational capabilities, from 6.5 to 53; but all of that improvement going to support a 70-fold increase in human population; and with only 1/70 the potential natural resources at their disposal, the typical peasant or craftsman in 1500 was able to use that technology to eak out roughly the same standard of living as their predecessors 7.5 millennia before.\n",
    "\n",
    "There is definitely a spurious precision here. And even if we could gain universal assent as to technological capability in, say, ceramics and each of the other aspects of human productivity and creativity, squashing multi-dimensional objects down into a single one-dimensional index simply cannot be done. All we can say is that _if_ there were an economy simple enough for such an index to be accurate, and _if_ its levels of productivity corresponded to those we assign to the real history, _then_ its index of human technological and organizational capabilities would be our H. Nevertheless, I find such a framework very useful as a metaphor in organizing my thoughts. Queen Victoria does not appear to have been a much better queen than Queen Elizabeth. But, from all historical accounts, Gloriana appears to have been perhaps four times as happy as happy a woman as the Widow of Windsor.\n",
    "\n",
    "Then comes a speedup: from 1500 to 1770 to 1870 our quantitative index H grows from 53 to 79 to 125. This time there was some increase in typical standards of living: figure a world in 1870 with 3.5 dollars a day per person, albeit much more unevently distributed. But, still, the overwhelming bulk of improvements in human technology and organization went to supporting a larger population: the 500 million of 1500 had grown to 1.3 billion by 1800, as better living standards lowered death rates worldwide. \n",
    "\n",
    "Then came the explosion: from 1870 to today, our H has risen from 125 to 2720. Our population has risen from 1.3 to 7.6 billion. And our resources from 3.5 to 32 dollars a day.\n",
    "\n",
    "\n",
    "&nbsp;\n",
    "\n",
    "----"
   ]
  },
  {
   "cell_type": "markdown",
   "metadata": {},
   "source": [
    "**IMF**: _World Economic Outlook (April 2019)_: Gross Domestic Product: <https://www.imf.org/external/datamapper/datasets/WEO/1>\n",
    "\n",
    "Longest-Run Global Economic Growth (2019) <https://www.icloud.com/numbers/0jaPx8AjooD2TDbNM4Og3Z2ow>\n",
    "\n",
    "Introduction to Economic History <https://github.com/braddelong/long-form-drafts/blob/master/introduction-to-economic-history.ipynb>\n",
    "\n",
    "&nbsp;\n",
    "\n",
    "----"
   ]
  }
 ],
 "metadata": {
  "kernelspec": {
   "display_name": "Python 3",
   "language": "python",
   "name": "python3"
  },
  "language_info": {
   "codemirror_mode": {
    "name": "ipython",
    "version": 3
   },
   "file_extension": ".py",
   "mimetype": "text/x-python",
   "name": "python",
   "nbconvert_exporter": "python",
   "pygments_lexer": "ipython3",
   "version": "3.6.7"
  }
 },
 "nbformat": 4,
 "nbformat_minor": 4
}
