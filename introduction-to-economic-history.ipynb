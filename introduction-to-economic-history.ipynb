{
 "cells": [
  {
   "cell_type": "markdown",
   "metadata": {},
   "source": [
    "# <font color=\"880000\"> Introduction to Economic History </font>\n",
    "## <font color=\"880000\"> The Ancient Economy </font>\n",
    "\n",
    "70,000 years ago, back in the Old Stone Age, there were perhaps 100,000 of _us_—100,000 East African Plains Apes who looked like us, moved like us, acted like us, talked like us, and from whom the overwhelming proportion of all of our heredity is derived. Yes, we have small admixtures (5%?) from other groups and subspecies and may be even species, but overwhelmingly we are those proto-hundred-thousand's children, and we are all all of their children: it is overwhelmingly likely that each of those who still has living descendants today has a place—has an astronomical number of places—on our <http://ancestry.com> family tree.\n",
    "\n",
    "Back then we were very smart herd animals. We gathered, we hunted (some), we protected ourselves, we made stone and wood tools, we understood our environment, we manipulated our environment, we communicated with each other, we cooperated and we fought, we talked, and we did the things that humans. Our standard of living? If we had to slot it into the world today, we might call it 4 dollars a day. Resources were not scarce, our knowledge of our East African environment was profound, and we probably had to spend less than one-third of our waking hours collecting 2000 calories plus essential nutrients each day, plus enough shelter and fire and clothing that we were not unduly wet or cold. We were buff: life was strenuous, especially hauling around a family in our then-seminomadic lifestyle. We were shortlived: a life expectancy at birth of perhaps 25-30: life was strenuous.\n",
    "\n",
    "Flash-forward 60,000 years, to 10,000 years ago, on the very eve of the invention/discovery of agriculture and of animal domestication. Things were much the same, save that there were then not one-hundred thousand of us in East Africa but rather perhaps three million of us, well, pretty much everywhere. Our living standards were much the same as they had been. We had better tools, but they were of stone and wood, plus fur and fiber, and not yet metal: it was still the Middle Stone Age. Our knowledge of our environment—or rather environments—was more profound, and so was our power to manipulate them. But in each environment we lived in we found ourselves in rough ecological balance.\n",
    "\n",
    "There are things that are objective and can be measured: five bushels of properly-threshed barley kernels, or three gallons of water. There are things that are subjective that can nevertheless be accurately measured in an objective form: the feeling of heat, for example: this Northern California hot tub here in the fog feels hot, and, indeed, is at a temperature of 105F: its molecules have thermal kinetic energy above that of absolute zero by 565/180 times the difference in thermal kinetic energy between water on the edge of boiling and water on the edge of freezing. There are things that are subjective that cannot be measured: anger, rage, and sorrow. Economists start with objetively measured prices and quantities of goods and services exchanged in markets, and then go on to construct quantitative measures of subjective things like willingnesses-to-pay and willingnesses-to-substitute and values and so forth. Mid-twentieth century British economist John Maynard Keynes warned us against carrying this too far:\n",
    "\n",
    ">Approximate statistical comparisons depending on some broad element of judgment rather than of strict calculation… may possess significance and validity within certain limits. But the proper place for such things... lies within the field of historical and statistical description, and their purpose should be to satisfy historical or social curiosity... of a similar character to the statement that Queen Victoria was a better queen but not a happier woman than Queen Elizabeth—a proposition not without meaning and not without interest, but unsuitable as material for the differential calculus. Our precision will be a mock precision if we try to use such partly vague and non-quantitative concepts as the basis of a quantitative analysis...\n",
    "\n",
    "Neverthless we do carry it far. For example, we have our estimates of how many people there were—100-thousand 70-thousand years ago, 3-million ten-thousand years ago—and we have our estimates of what their standard of living was on average—4 dollars per day. We can then make truly heroic assumptions and construct a quantitative index H of the _value_ of the useful ideas about how to cooperate and manipulate the environment in order to provide one another with what we need, find convenient, and simply want. Set that index H-68000—the index of the level of human technological and organizatioal knowledge 70=thousand years ago, in 68-thousand BC by the common calendar—\n",
    "\n",
    "Nevertheless, I find such a framework very useful as a metaphor in organizing my thoughts. Queen Victoria does not appear to have been a much better queen than Queen Elizabeth. But, from all historical accounts, Gloriana appears to have been perhaps four times as happy as happy a woman as the Widow at Windsor:\n",
    "\n",
    "Set our quantitive index of the global value of human knowledge H equal to a value of 1 back 10000 years ago…. By the year 1 this value index stood 3.5. By the year 1500… 4.75…. Calculating the average rate of growth of the value of the knowledge gets us a growth rate of 0.02% per year—0.5% per generation—for the entire span years from 1 to 1500:\n",
    "\n",
    "We also see an average population growth rate for the world over this time span of 0.06% per year—1.5% per generation—as increases in technological prowess were soaked up by higher populations and thus greater resource scarcity, leaving little or none to improve humanity’s lot:\n",
    "\n",
    "From 1500 to 1800 to 1870 our quantitative index H grows from 4.75 to 9 to 16—average proportional rates of annual increase in H of 0.2% per year over 1500-1800 and of 0.8% per year over 1800-1870:\n",
    "\n",
    "Even the 0.8% per year of growth in human knowledge over 1800-1870 did little to raise human material well-being:\n",
    "\n",
    "Humans were perhaps 40% better off in 1870 on average than they had been in 1800—a growth rate of 0.48% per year:\n",
    "\n",
    "Our 7.5 billion people today have a global value of knowledge index of 421\n",
    "\n",
    "an average income of 30 dollars a day—10000 dollars per capita per year:\n",
    "\n",
    "The value of knowledge about technology and organization grew at an average rate of 2.3% per year over the Long 20th Century\n",
    "\n",
    "\n",
    "&nbsp;\n",
    "\n",
    "----"
   ]
  },
  {
   "cell_type": "markdown",
   "metadata": {},
   "source": [
    "**IMF**: _World Economic Outlook (April 2019)_: Gross Domestic Product: <https://www.imf.org/external/datamapper/datasets/WEO/1>\n",
    "\n",
    "Longest-Run Global Economic Growth (2019) <https://www.icloud.com/numbers/0jaPx8AjooD2TDbNM4Og3Z2ow>\n",
    "\n",
    "Introduction to Economic History <https://github.com/braddelong/long-form-drafts/blob/master/introduction-to-economic-history.ipynb>\n",
    "\n",
    "&nbsp;\n",
    "\n",
    "----"
   ]
  }
 ],
 "metadata": {
  "kernelspec": {
   "display_name": "Python 3",
   "language": "python",
   "name": "python3"
  },
  "language_info": {
   "codemirror_mode": {
    "name": "ipython",
    "version": 3
   },
   "file_extension": ".py",
   "mimetype": "text/x-python",
   "name": "python",
   "nbconvert_exporter": "python",
   "pygments_lexer": "ipython3",
   "version": "3.6.1"
  }
 },
 "nbformat": 4,
 "nbformat_minor": 2
}
