{
 "cells": [
  {
   "cell_type": "markdown",
   "metadata": {},
   "source": [
    "# <font color=\"880000\"> Falls of Rome </font>\n",
    "\n",
    "There are five \"falls of Rome\":\n",
    "\n",
    "1. The fall of the Roman Republic—the transformation from the Free State of the _nobiles_ that had conquered the core of the empire to the imperial Principate of Augustus and his successors.\n",
    "\n",
    "2. The post-Antonine dynasty decline from the civilizational peak.\n",
    "\n",
    "3. The fall of the Roman Empire in the West.\n",
    "\n",
    "4. The fall of the Roman Empire in the East I—its reduction to Anatolia, Greece, and some of the Balkans.\n",
    "\n",
    "5. The fall of the Roman Empire in the East II: the Road to Manzikert—after which it was just another power, and not an especially great one.\n",
    "\n",
    "&nbsp;\n",
    "\n",
    "----\n",
    "\n",
    "## <font color=\"880000\"> The Fall of the Roman Republic </font>\n",
    "\n",
    "&nbsp;\n",
    "\n",
    "----\n",
    "\n",
    "## <font color=\"880000\"> The Post-Antonine Decline </font>\n",
    "\n",
    "&nbsp;\n",
    "\n",
    "----\n",
    "\n",
    "\n"
   ]
  },
  {
   "cell_type": "markdown",
   "metadata": {},
   "source": [
    "## <font color=\"880000\"> Falls of Rome </font>\n",
    "\n",
    "<img src=\"https://tinyurl.com/20190119a-delong\" width=\"300\" style=\"float:right\" />\n",
    "\n",
    "### <font color=\"000088\">Catch Our Breath—Further Notes:</font>\n",
    "\n",
    "<br clear=\"all\" />\n",
    "\n",
    "----\n",
    "\n",
    "* Weblog Support <https://github.com/braddelong/long-form-drafts/blob/master/lecture-notes-falls-of-rome.ipynb>\n",
    "* nbViewer <https://nbviewer.jupyter.org/github/braddelong/long-form-drafts/blob/master/lecture-notes-falls-of-rome.ipynb>\n",
    "\n",
    "&nbsp;\n",
    "\n"
   ]
  }
 ],
 "metadata": {
  "kernelspec": {
   "display_name": "Python 3",
   "language": "python",
   "name": "python3"
  },
  "language_info": {
   "codemirror_mode": {
    "name": "ipython",
    "version": 3
   },
   "file_extension": ".py",
   "mimetype": "text/x-python",
   "name": "python",
   "nbconvert_exporter": "python",
   "pygments_lexer": "ipython3",
   "version": "3.6.7"
  }
 },
 "nbformat": 4,
 "nbformat_minor": 4
}
