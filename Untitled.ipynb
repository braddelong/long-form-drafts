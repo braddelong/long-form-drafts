{
 "cells": [
  {
   "cell_type": "markdown",
   "metadata": {},
   "source": [
    "# <font color=\"880000\"> Lecture Notes: The Solow Growth Model </font>"
   ]
  },
  {
   "cell_type": "markdown",
   "metadata": {},
   "source": [
    "## <font color=\"880000\"> 1: The Basics of the Model </font>\n",
    "\n",
    "### <font color=\"000088\"> 1.1: The Equilibrium Condition </font>\n",
    "\n",
    "Suppose that we have an economy in which the labor force $L$ is growing at a constant rate $n$, in which the efficiency-of-labor $E$ is growing at a constant rate $g$ and in which total income and production $ Y $ (and average income and production per worker $ y $ depends on the size of the labor force, the value of the efficiency-of-labor, and the capital-intensity of the economy $ \\kappa $ thus: \n",
    "\n",
    ">(1.1) $ Y = \\kappa^\\theta E L $\n",
    "\n",
    ">(1.2) $ y = \\kappa^\\theta E $\n",
    "\n",
    "where $ \\theta $ is a parameter that summarizes the relative importance of capital-intensity vis-a-vis the efficienc-of-labor in economic growth: a one-percent increase in the efficiency-of-labor $ E $ will raise total income $Y$ and per-worker income $y$ both by one percent; a one-percent increase in the capital-intensity $ \\kappa $ will increase total income $Y$ and per-worker income $y$ both by only $ \\theta $ percent; the higher is $\\theta $, the more salient is capital-intensity—and thus saving and investing to raise and then maintain capital-intensity—in the process of economic growth.\n",
    "\n",
    "Multiply the economy's capital-intensity $ \\kappa $ by the economy's level of total income and production $ Y$ and you get the economy's capital stock $ K$:\n",
    "\n",
    ">(1.3) $ K + \\kappa Y $\n",
    "\n",
    "the amount of produced means of production that the economy has inherited from its past.\n",
    "\n",
    "Now take the natural log of (1.1) and then take the time derivative of the result:\n",
    "\n",
    ">(1.4) $ \\ln(Y) = \\theta\\ln(\\kappa) + \\ln(L) + \\ln(E) $\n",
    "\n",
    ">(1.5) $ \\frac{1}{Y}\\frac{dY}{dt} = \\theta \\;le"
   ]
  }
 ],
 "metadata": {
  "kernelspec": {
   "display_name": "Python 3",
   "language": "python",
   "name": "python3"
  },
  "language_info": {
   "codemirror_mode": {
    "name": "ipython",
    "version": 3
   },
   "file_extension": ".py",
   "mimetype": "text/x-python",
   "name": "python",
   "nbconvert_exporter": "python",
   "pygments_lexer": "ipython3",
   "version": "3.6.7"
  }
 },
 "nbformat": 4,
 "nbformat_minor": 4
}
