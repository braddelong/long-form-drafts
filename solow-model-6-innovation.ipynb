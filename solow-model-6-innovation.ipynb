{
 "cells": [
  {
   "cell_type": "markdown",
   "metadata": {},
   "source": [
    "## <font color=\"880000\"> 6. Innovation </font>\n",
    "\n",
    "### <font color=\"000088\"> 6.1. ?? </font>\n",
    "\n",
    ">$ \\frac{dH}{dt} = \\delta L_{stem}^{\\lambda} H^{\\phi} $\n",
    "\n",
    ">$ \\frac{dH/dt}{H} = \\delta L_{stem}^{\\lambda} H^{\\phi - 1} $\n",
    "\n",
    "In the steady-state:\n",
    "\n",
    ">$ \\lambda \\frac{dL_{stem}/dt}{L_{stem} = (1 - \\phi) \\frac{dH/dt}{H} $\n",
    "\n",
    ">$ \\lambda n = (1 - \\phi) h $\n",
    "\n",
    ">$ h = \\frac{\\lambda n}{1 - \\phi} $\n",
    "\n",
    "25 bachelor's degrees per 1000 23 year olds in 1900\n",
    "\n",
    "300 bachelor's degrees per 1000 23 year olds today...\n",
    "\n",
    "60-fold multiplication in college graduates in the U.S....\n",
    "\n",
    "20-fold multiplication in h since 1870\n",
    "\n",
    ">$ \\frac{\\lambda}{1-\\phi} = \\frac{1}{3} $\n",
    "\n",
    "45,000,000\n",
    "\n",
    "Inflection points in the effective STEM workforce\n",
    "\n",
    "* writing\n",
    "* printing\n",
    "* formal education"
   ]
  }
 ],
 "metadata": {
  "kernelspec": {
   "display_name": "Python 3",
   "language": "python",
   "name": "python3"
  },
  "language_info": {
   "codemirror_mode": {
    "name": "ipython",
    "version": 3
   },
   "file_extension": ".py",
   "mimetype": "text/x-python",
   "name": "python",
   "nbconvert_exporter": "python",
   "pygments_lexer": "ipython3",
   "version": "3.7.4"
  }
 },
 "nbformat": 4,
 "nbformat_minor": 4
}
